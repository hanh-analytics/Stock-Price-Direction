{
 "cells": [
  {
   "cell_type": "markdown",
   "metadata": {},
   "source": [
    "# Hypothesis Testing \n",
    "\n",
    "The hypothesis test serves as a preliminary step to evaluate whether there is a significant trend in the stock price direction. This analysis helps determine if the stock exhibits any inherent directional bias that could inform model development. Identifying a significant trend ensures that the classification model is built on meaningful patterns, increasing its potential effectiveness in predicting price direction in the highly volatile and complex stock market.\n",
    "\n"
   ]
  },
  {
   "cell_type": "markdown",
   "metadata": {},
   "source": [
    "## Define the Hypotheses:\n",
    "- **Null Hypothesis (H0)**: The proportion of days where the closing price is higher than the opening price (*p*) is equal to 0.50 (*p* = 0.50)\n",
    "- **Alternative Hypothesis (H1)**: The proportion of days where the closing price is higher than the opening price (*p*) is equal to 0.50 (*p* &ne; 0.50)\n",
    "\n",
    "This is a two-tailed test since we are interested in deviations in both directions."
   ]
  },
  {
   "cell_type": "markdown",
   "metadata": {},
   "source": [
    "## Collect Data \n",
    "Use the datasets provided (AMZN_train.csv, AMZN_val.csv, AMZN_test.csv) to calculate the proportion of days where the closing price (*Close*) is higher than the opening price (*Open*)."
   ]
  },
  {
   "cell_type": "code",
   "execution_count": 1,
   "metadata": {},
   "outputs": [
    {
     "name": "stdout",
     "output_type": "stream",
     "text": [
      "<class 'pandas.core.frame.DataFrame'> <class 'pandas.core.frame.DataFrame'> <class 'pandas.core.frame.DataFrame'>\n"
     ]
    }
   ],
   "source": [
    "import pandas as pd \n",
    "\n",
    "#Load datasets:\n",
    "df_train = pd.read_csv('/Users/DELL/Desktop/Projects/Prediciton of Stock Price/myworkspace/datasets/AMZN_train.csv')\n",
    "df_val = pd.read_csv('/Users/DELL/Desktop/Projects/Prediciton of Stock Price/myworkspace/datasets/AMZN_val.csv')\n",
    "df_test = pd.read_csv('/Users/DELL/Desktop/Projects/Prediciton of Stock Price/myworkspace/datasets/AMZN_test.csv')\n",
    "\n",
    "print(type(df_train), type(df_val), type(df_test))\n",
    "\n"
   ]
  },
  {
   "cell_type": "code",
   "execution_count": 2,
   "metadata": {},
   "outputs": [],
   "source": [
    "# Concatenate the datasets\n",
    "df_combined = pd.concat([df_train, df_val, df_test])\n",
    "\n"
   ]
  },
  {
   "cell_type": "markdown",
   "metadata": {},
   "source": [
    "## Compute the Observed Proportion "
   ]
  },
  {
   "cell_type": "code",
   "execution_count": 3,
   "metadata": {},
   "outputs": [],
   "source": [
    "# Compute the observed proportion (p_obs)\n",
    "p_obs = (df_combined['Close'] > df_combined['Open']).mean()"
   ]
  },
  {
   "cell_type": "markdown",
   "metadata": {},
   "source": [
    "## Determine the Test Statistic (Z)"
   ]
  },
  {
   "cell_type": "code",
   "execution_count": 4,
   "metadata": {},
   "outputs": [],
   "source": [
    "import numpy as np\n",
    "\n",
    "# Hypothesized proportion (50%)\n",
    "p_0 = 0.50\n",
    "\n",
    "n = len(df_combined)  # Total number of days\n",
    "z = (p_obs - p_0) / np.sqrt(p_0 * (1 - p_0) / n)\n",
    "\n"
   ]
  },
  {
   "cell_type": "markdown",
   "metadata": {},
   "source": [
    "## Calculate the p-value"
   ]
  },
  {
   "cell_type": "code",
   "execution_count": 5,
   "metadata": {},
   "outputs": [],
   "source": [
    "from scipy.stats import norm\n",
    "p_value = 2 * (1 - norm.cdf(abs(z)))"
   ]
  },
  {
   "cell_type": "markdown",
   "metadata": {},
   "source": [
    "## Make a decision and Draw decision"
   ]
  },
  {
   "cell_type": "code",
   "execution_count": 6,
   "metadata": {},
   "outputs": [],
   "source": [
    "alpha = 0.05\n",
    "if p_value < alpha:\n",
    "    result = \"Reject the null hypothesis (there is a significant trend)\"\n",
    "else:\n",
    "    result = \"Fail to reject the null hypothesis (no significant trend)\""
   ]
  },
  {
   "cell_type": "markdown",
   "metadata": {},
   "source": [
    "## Conclusion"
   ]
  },
  {
   "cell_type": "code",
   "execution_count": 7,
   "metadata": {},
   "outputs": [
    {
     "name": "stdout",
     "output_type": "stream",
     "text": [
      "Observed Proportion: 0.5003455425017277\n",
      "Z-Statistic: 0.05257699129677698\n",
      "P-Value: 0.958068949893516\n",
      "Result: Fail to reject the null hypothesis (no significant trend)\n"
     ]
    }
   ],
   "source": [
    "# Output the results\n",
    "print(f\"Observed Proportion: {p_obs}\")\n",
    "print(f\"Z-Statistic: {z}\")\n",
    "print(f\"P-Value: {p_value}\")\n",
    "print(f\"Result: {result}\")"
   ]
  },
  {
   "cell_type": "markdown",
   "metadata": {},
   "source": [
    "If the Result is \"Fail to reject the null hypothesis (no significant trend)\", it means that, based on the data and the hypothesis test, there is not enough evidence to suggest that the proportion of days where the closing price is higher than the opening price is significantly different from 50%.\n",
    "\n",
    "There is no clear trend or statistically significant difference in the frequency of days where the closing price is higher versus the opening price.\n",
    "\n",
    "From a trading perspective, this could suggest that, based on the available data, there isn't a significant bias toward either \"buying\" or \"selling\" based on the daily price movement of Amazon stock (since it is essentially random or balanced)."
   ]
  }
 ],
 "metadata": {
  "kernelspec": {
   "display_name": "myworkspace",
   "language": "python",
   "name": "python3"
  },
  "language_info": {
   "codemirror_mode": {
    "name": "ipython",
    "version": 3
   },
   "file_extension": ".py",
   "mimetype": "text/x-python",
   "name": "python",
   "nbconvert_exporter": "python",
   "pygments_lexer": "ipython3",
   "version": "3.12.1"
  }
 },
 "nbformat": 4,
 "nbformat_minor": 2
}
